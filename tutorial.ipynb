{
 "cells": [
  {
   "attachments": {},
   "cell_type": "markdown",
   "metadata": {},
   "source": [
    "# Tutorial for Element D2_nn8_quad\n",
    "\n",
    "## Visualize the Element Type\n",
    "\n",
    "This element type is a 2D rectangular element with eight nodes. There is one node at each corner of the rectangle, and one at the midpoints of each edge. Natural coordinates $(\\xi, \\eta)$ refer to the local coordinate system for each node; every node has the same natural coordinates. The natural coordinates for the D2_nn8_quad element are $(-1, -1)$, $(1, -1)$, $(1, 1)$, $(-1, 1)$, $(0, -1)$, $(1, 0)$, $(0, 1)$, and $(-1, 0)$.\n",
    "\n",
    "Here, the element type, number of Gaus points, and the image file name (fname) are defined to display an image of the element in its natural coordinates. The Gauss point is an integration point, which will be explored later. \n"
   ]
  },
  {
   "cell_type": "code",
   "execution_count": null,
   "metadata": {},
   "outputs": [],
   "source": [
    "# Visualize the element type\n",
    "from finiteelementanalysis import discretization_demo_helper_fcns as di_demo\n",
    "\n",
    "ele_type = \"D2_nn8_quad\"\n",
    "num_gauss_pts = 9\n",
    "fname = \"D2_nn8_quad_9gp.png\"\n",
    "di_demo.visualize_gauss_pts(fname, ele_type, num_gauss_pts)"
   ]
  },
  {
   "attachments": {},
   "cell_type": "markdown",
   "metadata": {},
   "source": [
    "## Interpolated Field\n",
    "\n",
    "If the values of some field variable are known at the element nodes, the field can be interpolated to other points within the element. This field can be a scalar (like temperature) or a vector (like displacement).\n",
    "\n",
    "For example, the value of an field variable can be found at each of the nodes based on the following equation\n",
    "$$ f = 2\\xi + 3\\eta + 1.5\\xi\\eta$$\n",
    "\n",
    "Where $f$ is the field variable (interpolated field) and $(\\xi,\\eta)$ are the natural cooridnates. The field value at each node can be found by evaluating the function for each of the nodal coordinates. Then, the field variable can be interpolated for other points in the element.\n",
    "\n",
    "Interpolation of the field values is accomplished by using shape functions. Since interpolation is done in natural coordinates, the shape functions must also be defined in natural coordinates. The number of interpolation points along each axis is $10$ unless otherwise specified when calling the function."
   ]
  },
  {
   "cell_type": "code",
   "execution_count": null,
   "metadata": {},
   "outputs": [],
   "source": [
    "from finiteelementanalysis import discretization_demo_helper_fcns as di_demo\n",
    "import numpy as np\n",
    "\n",
    "def fcn(xi, eta):\n",
    "    return 2.0 * xi + 3.0 * eta + 1.5 * xi * eta\n",
    "\n",
    "ele_type = \"D2_nn8_quad\"\n",
    "node_coords = np.array([[-1,-1], [1, -1], [1, 1],[-1,1],[0,-1],[1,0],[0,1],[-1,0]])\n",
    "node_values = np.array([fcn(xi, eta) for xi, eta in node_coords])\n",
    "\n",
    "fname = ele_type + \"_interpolate_fcn.png\"\n",
    "di_demo.plot_interpolate_field_natural_coords_single_element(fname, ele_type, node_values)"
   ]
  },
  {
   "attachments": {},
   "cell_type": "markdown",
   "metadata": {},
   "source": [
    "## Plot Interpolated Field in Physical Coordinates\n",
    "\n",
    "So far, we have only looked at plots of elements in their natural coordinates. However, the physical coordinates reflect the actual field locations and distribution. Let's consider the same field variable function, but this time it is defined in physical coordinates (x, y):\n",
    "$$ f = 2x + 3y + 1.5xy$$\n",
    "\n",
    "This function tells us the value of $f$ at the three nodes. If we define the nodal coordinates for the three nodes in physical coordinates, we can find the interpolated filed in natural coordinates, and then map this field to the physical coordinates. Here the default number of interpolation points is 20. Notice in the mapped element, the nodal locations are as defined by the user, but the interpolated field is still mapped similar to the reference element in natural coordinates."
   ]
  },
  {
   "cell_type": "code",
   "execution_count": null,
   "metadata": {},
   "outputs": [],
   "source": [
    "from finiteelementanalysis import discretization_demo_helper_fcns as di_demo\n",
    "import numpy as np\n",
    "\n",
    "def fcn(x, y):\n",
    "    return 2.0 * x + 3.0 * y + 1.5 * x * y\n",
    "\n",
    "ele_type = \"D2_nn8_quad\"\n",
    "node_coords = np.array([[1, 1],[5, 0],[3,4],[0,4],[3,0.5], [4,2], [1, 4],[0.5,2.5]])\n",
    "node_values = np.array([fcn(x, y) for x, y in node_coords])\n",
    "fname = ele_type + \"_interpolate_fcn_physical_coords.png\"\n",
    "di_demo.visualize_isoparametric_mapping_single_element(str(fname), ele_type, node_coords, node_values)"
   ]
  },
  {
   "attachments": {},
   "cell_type": "markdown",
   "metadata": {},
   "source": [
    "## Checking the Derivatives\n",
    "\n",
    "Derivatives of the field variable function can be used for interpolation, but these derivatives should be validated. This can be done with an analytic solutionf for a simple field distribution, like the function used in the previous steps:\n",
    "$$ f = 2x + 3y + 1.5xy$$\n",
    "\n",
    "The derivative of this function can be found:\n",
    "$$ \\frac{\\partial f}{\\partial x} = 2+1.5y$$\n",
    "$$ \\frac{\\partial f}{\\partial y} = 3+1.5x$$\n",
    "\n",
    "The mapped derivative (analytic) is calcualted based on the function derivative and the test point in physical coordinates.The physical gradient is the gradient of the function calculated in natural coordinates and then transformed into physical coordinates. These should match eachother. "
   ]
  },
  {
   "cell_type": "code",
   "execution_count": null,
   "metadata": {},
   "outputs": [],
   "source": [
    "from finiteelementanalysis import discretization_demo_helper_fcns as di_demo\n",
    "import numpy as np\n",
    "\n",
    "def fcn(x, y):\n",
    "    return 2.0 * x + 3.0 * y + 1.5 * x * y\n",
    "\n",
    "def fcn_deriv(x, y):\n",
    "    return np.asarray([2.0 + 1.5 * y, 3.0 + 1.5 * x]).reshape((2, 1))\n",
    "\n",
    "ele_type = \"D2_nn8_quad\"\n",
    "node_coords = np.array([[0, 0], [4, 0], [2, 2], [0, 2],[2,0],[3,1],[1,2],[0,1]])\n",
    "node_values = np.array([fcn(x, y) for x, y in node_coords])\n",
    "\n",
    "xi, eta = 0, 0  # element center in natural coordinates\n",
    "\n",
    "# Map the test point from natural to physical coordinates\n",
    "x_mapped = di_demo.interpolate_field_natural_coords_single_element(\n",
    "    ele_type, node_coords[:, 0], [xi], [eta]\n",
    ").flatten()[0]\n",
    "y_mapped = di_demo.interpolate_field_natural_coords_single_element(\n",
    "    ele_type, node_coords[:, 1], [xi], [eta]\n",
    ").flatten()[0]\n",
    "\n",
    "# Evaluate the function derivative in physical coordinates\n",
    "mapped_deriv = fcn_deriv(x_mapped, y_mapped)\n",
    "\n",
    "# Compute the numerical gradient in natural coordinates\n",
    "gradient_natural = di_demo.interpolate_gradient_natural_coords_single_element(\n",
    "    ele_type, node_values, np.array([xi]), np.array([eta])\n",
    ")\n",
    "\n",
    "# Transform the numerical gradient to physical coordinates\n",
    "gradient_physical = di_demo.transform_gradient_to_physical(\n",
    "    ele_type, node_coords, np.array([xi]), np.array([eta]), gradient_natural\n",
    ").reshape((2, 1))\n",
    "\n",
    "print('Mapped Derivative:\\n', mapped_deriv)\n",
    "print('Physical Gradient:\\n',gradient_physical)\n",
    "\n",
    "if np.allclose(mapped_deriv, gradient_physical, atol=10e-10):\n",
    "    print(\"Analytical and numerical derivatives match!\")"
   ]
  },
  {
   "attachments": {},
   "cell_type": "markdown",
   "metadata": {},
   "source": [
    "## Integrate Over the Area\n",
    "\n",
    "Finally, the integration of the derivatives over the element area can be performed. This means that the field variable can be interpolated to any point in the element (domain). The most efficient points to choose for integration are known as Gauss points. Similar to checking the derivaties, we can also verify that the integral is calculated correctly by comparing to an analytic solution."
   ]
  },
  {
   "cell_type": "code",
   "execution_count": null,
   "metadata": {},
   "outputs": [],
   "source": [
    "from finiteelementanalysis import discretization_demo_helper_fcns as di_demo\n",
    "import numpy as np\n",
    "\n",
    "def fcn(x, y):\n",
    "    return 3.0 * x + 10.0 * y\n",
    "\n",
    "def fcn_deriv(x, y):\n",
    "    return np.asarray([3.0, 10.0])  # df/dx = 3.0, df/dy = 0\n",
    "\n",
    "def element_area(node_coords):\n",
    "    x1, y1 = node_coords[0]\n",
    "    x2, y2 = node_coords[1]\n",
    "    x3, y3 = node_coords[2]\n",
    "    x4, y4 = node_coords[3]\n",
    "    area = 0.5 * abs((x1 * y2 + x2 * y3 + x3 * y4 + x4 * y1) \n",
    "                     - (y1 * x2 + y2 * x3 + y3 * x4 + y4 * x1))\n",
    "    return area\n",
    "\n",
    "def integral_of_deriv(node_coords):\n",
    "    area = element_area(node_coords)\n",
    "    return np.array([3.0 * area, 10.0 * area]).reshape((2, 1))\n",
    "\n",
    "ele_type = \"D2_nn8_quad\"\n",
    "num_gauss_pts = 4\n",
    "node_coords = np.array([[0, 0], [4, 0], [2, 2], [0, 2],[2,0],[3,1],[1,2],[0,1]])\n",
    "\n",
    "# Compute nodal values from fcn(x, y)\n",
    "nodal_values = np.array([[fcn(x, y) for x, y in node_coords]]).T\n",
    "\n",
    "# Compute numerical integral\n",
    "integral_numerical = di_demo.compute_integral_of_derivative(\n",
    "    ele_type, num_gauss_pts, node_coords, nodal_values)\n",
    "\n",
    "# Compute analytical integral\n",
    "integral_analytical = integral_of_deriv(node_coords)\n",
    "\n",
    "print('Numerical Integral:\\n', integral_numerical)\n",
    "print('Analytic Integral:\\n',integral_analytical)\n",
    "\n",
    "# check result\n",
    "if np.allclose(integral_numerical, integral_analytical, atol=10e-10):\n",
    "    print(\"analytical and numerical integrals of derivatives match!\")"
   ]
  }
 ],
 "metadata": {
  "kernelspec": {
   "display_name": "finite-element-analysis-env",
   "language": "python",
   "name": "python3"
  },
  "language_info": {
   "codemirror_mode": {
    "name": "ipython",
    "version": 3
   },
   "file_extension": ".py",
   "mimetype": "text/x-python",
   "name": "python",
   "nbconvert_exporter": "python",
   "pygments_lexer": "ipython3",
   "version": "3.12.9"
  },
  "orig_nbformat": 4
 },
 "nbformat": 4,
 "nbformat_minor": 2
}
