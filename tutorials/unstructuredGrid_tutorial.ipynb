{
 "cells": [
  {
   "cell_type": "code",
   "execution_count": 8,
   "metadata": {},
   "outputs": [
    {
     "name": "stderr",
     "output_type": "stream",
     "text": [
      "Warning : Gmsh has aleady been initialized\n"
     ]
    },
    {
     "ename": "ValueError",
     "evalue": "The truth value of an array with more than one element is ambiguous. Use a.any() or a.all()",
     "output_type": "error",
     "traceback": [
      "\u001b[31m---------------------------------------------------------------------------\u001b[39m",
      "\u001b[31mValueError\u001b[39m                                Traceback (most recent call last)",
      "\u001b[36mCell\u001b[39m\u001b[36m \u001b[39m\u001b[32mIn[8]\u001b[39m\u001b[32m, line 24\u001b[39m\n\u001b[32m     21\u001b[39m \u001b[38;5;66;03m#complex_outline = pre.get_bulldog_outline()\u001b[39;00m\n\u001b[32m     22\u001b[39m \u001b[38;5;66;03m#print(complex_outline)\u001b[39;00m\n\u001b[32m     23\u001b[39m mesh_size = \u001b[32m0.5\u001b[39m\n\u001b[32m---> \u001b[39m\u001b[32m24\u001b[39m coords, connect = \u001b[43mpre\u001b[49m\u001b[43m.\u001b[49m\u001b[43mmesh_outline\u001b[49m\u001b[43m(\u001b[49m\u001b[43mcomplex_outline\u001b[49m\u001b[43m,\u001b[49m\u001b[43m \u001b[49m\u001b[43mele_type\u001b[49m\u001b[43m,\u001b[49m\u001b[43m \u001b[49m\u001b[43mmesh_name\u001b[49m\u001b[43m,\u001b[49m\u001b[43m \u001b[49m\u001b[43mmesh_size\u001b[49m\u001b[43m)\u001b[49m\n\u001b[32m     25\u001b[39m mesh_gauss_pts = pre_demo.get_all_mesh_gauss_pts(ele_type, num_gauss_pts, coords, connect)\n\u001b[32m     27\u001b[39m \u001b[38;5;66;03m# Plot mesh\u001b[39;00m\n",
      "\u001b[36mFile \u001b[39m\u001b[32m/projectnb/aeracous/rebshan/.conda/envs/finite-element-analysis-env/lib/python3.12/site-packages/finiteelementanalysis/pre_process.py:297\u001b[39m, in \u001b[36mmesh_outline\u001b[39m\u001b[34m(outline_points, element_type, mesh_name, mesh_size)\u001b[39m\n\u001b[32m    294\u001b[39m gmsh.model.add(mesh_name)\n\u001b[32m    296\u001b[39m \u001b[38;5;66;03m# Ensure the shape is properly closed\u001b[39;00m\n\u001b[32m--> \u001b[39m\u001b[32m297\u001b[39m \u001b[38;5;28;01mif\u001b[39;00m outline_points[\u001b[32m0\u001b[39m] != outline_points[-\u001b[32m1\u001b[39m]:\n\u001b[32m    298\u001b[39m     outline_points.append(outline_points[\u001b[32m0\u001b[39m])\n\u001b[32m    300\u001b[39m \u001b[38;5;66;03m# Create gmsh points\u001b[39;00m\n",
      "\u001b[31mValueError\u001b[39m: The truth value of an array with more than one element is ambiguous. Use a.any() or a.all()"
     ]
    }
   ],
   "source": [
    "# import necessary dictionaries and code\n",
    "\n",
    "from finiteelementanalysis import pre_process as pre\n",
    "from finiteelementanalysis import pre_process_demo_helper_fcns as pre_demo\n",
    "import numpy as np\n",
    "\n",
    "# define the field function and its derivative\n",
    "\n",
    "def fcn_interp_1(x, y):\n",
    "    return np.sin(x / 10.0) * np.cos(y / 10.0)\n",
    "def fcn_interp_deriv_1(x, y):\n",
    "    df_dx = np.cos(x / 10.0) * np.cos(y / 10.0) * 1.0 / 10.0\n",
    "    df_dy = -np.sin(x / 10.0) * np.sin(y / 10.0) * 1.0 / 10.0\n",
    "    return np.array([df_dx, df_dy])\n",
    "\n",
    "#complex_outline = np.array([[0,0],[1,0],[1,1],[0,1],[0,0]])\n",
    "# CREATE MESH\n",
    "ele_type = \"D2_nn3_tri\"\n",
    "num_gauss_pts = 1\n",
    "mesh_name = f\"butterfly_mesh_{ele_type}_gp{num_gauss_pts}\"\n",
    "# complex_outline = pre.get_bulldog_outline()\n",
    "# print(complex_outline)\n",
    "mesh_size = 0.5\n",
    "coords, connect = pre.mesh_outline(complex_outline, ele_type, mesh_name, mesh_size)\n",
    "mesh_gauss_pts = pre_demo.get_all_mesh_gauss_pts(ele_type, num_gauss_pts, coords, connect)\n",
    "\n",
    "# Plot mesh\n",
    "pre_demo.plot_mesh_2D(mesh_name, ele_type, coords, connect, mesh_gauss_pts)\n",
    "# Create element quality historams\n",
    "aspect_ratios, skewness, min_angles, max_angles = pre_demo.compute_element_quality_metrics(ele_type, coords, connect)\n",
    "cond_nums, jac_dets = pre_demo.compute_condition_and_jacobian(ele_type, coords, connect)\n",
    "plot_file = mesh_name + \"_histograms\"\n",
    "pre_demo.plot_element_quality_histograms(\n",
    "    fname=str(plot_file),\n",
    "    super_title=\"Test Mesh Quality Metrics (%s)\" % (ele_type),\n",
    "    ele_type=ele_type,\n",
    "    cond_nums=cond_nums,\n",
    "    jac_dets=jac_dets,\n",
    "    aspect_ratios=aspect_ratios,\n",
    "    skewness=skewness,\n",
    "    min_angles=min_angles,\n",
    "    max_angles=max_angles\n",
    ")\n",
    "\n",
    "# Example interpolation w/ error plots\n",
    "ground_truth_fcn = fcn_interp_1(mesh_gauss_pts[..., 0], mesh_gauss_pts[..., 1])\n",
    "\n",
    "# Vectorized evaluation\n",
    "interpolated = pre_demo.interpolate_scalar_to_gauss_pts(ele_type, num_gauss_pts, fcn_interp_1, coords, connect)\n",
    "error_plot = mesh_name + \"_fcn_errors\"\n",
    "pre_demo.plot_interpolation_with_error(\n",
    "    str(error_plot),\n",
    "    ele_type,\n",
    "    coords,\n",
    "    connect,\n",
    "    mesh_gauss_pts,\n",
    "    interpolated,\n",
    "    ground_truth_fcn\n",
    ")\n",
    "\n",
    "# Example interpolation of derivatives w/ error plots\n",
    "ground_truth_grad = np.zeros_like(mesh_gauss_pts)\n",
    "for kk in range(mesh_gauss_pts.shape[0]):\n",
    "    for jj in range(mesh_gauss_pts.shape[1]):\n",
    "        x = mesh_gauss_pts[kk, jj, 0]\n",
    "        y = mesh_gauss_pts[kk, jj, 1]\n",
    "        ground_truth_grad[kk, jj] = fcn_interp_deriv_1(x, y) \n",
    "        # should return [f/x, f/y]\n",
    "\n",
    "# Compute interpolated gradient from nodal values of fcn_3\n",
    "interpolated_grad = pre_demo.interpolate_scalar_deriv_to_gauss_pts(\n",
    "    ele_type,\n",
    "    num_gauss_pts,\n",
    "    fcn_interp_1,\n",
    "    coords,\n",
    "    connect\n",
    ")\n",
    "\n",
    "# Save gradient interpolation error plot\n",
    "grad_error_plot = mesh_name + \"_fcn_grad_errors\"\n",
    "pre_demo.plot_interpolation_gradient_with_error(\n",
    "    str(grad_error_plot),\n",
    "    ele_type,\n",
    "    coords,\n",
    "    connect,\n",
    "    mesh_gauss_pts,\n",
    "    interpolated_grad,\n",
    "    ground_truth_grad\n",
    ")\n"
   ]
  },
  {
   "cell_type": "code",
   "execution_count": 9,
   "metadata": {},
   "outputs": [
    {
     "name": "stdout",
     "output_type": "stream",
     "text": [
      "[(88.016291, -42.662919), (83.77801, -37.967978), (81.21575299999999, -33.464619), (80.82753199999999, -28.573038999999998), (83.389789, -24.457898999999998), (86.96142099999999, -20.032183999999997), (90.99891499999998, -15.994689999999999), (96.58929099999999, -11.568974999999998), (103.73254999999999, -6.677394799999998), (109.24528, -2.7951884999999983), (111.65225, -1.5528824999999984), (112.58398, -2.018747199999998), (112.66158, -4.969223899999998), (110.40990000000001, -8.230277199999998), (105.59597000000001, -11.957194999999999), (100.00559000000001, -22.20622), (98.21977700000001, -27.330733), (103.03371000000001, -24.147323), (110.72048000000001, -21.196846), (115.92264000000002, -22.050931000000002), (122.52239000000002, -25.001408), (127.87983000000001, -28.495394), (131.29618000000002, -28.96126), (130.13151000000002, -26.709578999999998), (130.44209, -23.137949), (133.54785, -19.255743), (139.06059000000002, -15.140604), (147.52380000000002, -11.103110000000001), (148.61082000000002, -11.413686), (147.44615000000002, -14.131231), (145.58269, -16.38291), (144.65096000000003, -16.460549999999998), (141.54520000000002, -23.215588999999998), (138.82765000000003, -31.756442999999997), (145.19447000000002, -35.716293), (151.87187000000003, -41.927823000000004), (155.90936000000002, -47.285268), (157.46224, -50.856897000000004), (157.30695, -54.273239000000004), (155.90936, -57.456647000000004), (152.64830999999998, -61.80472), (152.49301999999997, -65.298704), (151.40599999999998, -69.103267), (156.76344999999998, -72.90783), (163.82905999999997, -75.703018), (165.14900999999998, -78.57585), (165.84780999999998, -85.330887), (165.45959, -91.852996), (162.12089, -100.00563000000001), (159.79157, -103.26669000000001), (156.6858, -105.67365000000001), (154.97763, -106.06187000000001), (152.41538, -108.23591000000002), (149.69783, -108.46884000000001), (147.44615000000002, -110.72052000000001), (145.4274, -111.26403), (142.63222000000002, -110.87581), (134.79016000000001, -114.21451), (138.9053, -118.32965), (143.4863, -126.55992), (145.73798, -134.55727000000002), (146.43678, -142.08875), (145.89327, -145.66038), (143.4863, -148.30028000000001), (140.06996, -148.53321000000003), (131.6844, -145.89331), (124.61878000000002, -143.09812000000002), (119.02840000000002, -150.47431000000003), (115.68971000000002, -153.58008000000004), (109.94404000000002, -153.96830000000003), (106.60534000000001, -152.57070000000002), (98.45271100000001, -146.43682), (87.89310800000001, -140.45822), (75.85827100000002, -131.91737), (69.80202700000001, -124.23060000000001), (67.16212900000001, -118.64022000000001), (66.696263, -111.18639000000002), (66.929195, -105.13014000000001), (69.025586, -99.30683), (71.898419, -96.51164200000001), (76.557067, -95.26933600000001), (77.566439, -93.32823300000001), (70.34553700000001, -85.48617700000001), (80.516917, -87.19434800000002), (82.613308, -83.38978500000002), (86.883736, -85.17560100000001), (91.542382, -76.16888300000002), (88.98012800000001, -71.27730300000002), (84.63205500000001, -65.60928000000001), (82.92388400000002, -59.47539400000001), (84.94263100000002, -49.53694900000001), (88.016291, -42.662919)]\n"
     ]
    }
   ],
   "source": [
    "# import necessary dictionaries and code\n",
    "\n",
    "from finiteelementanalysis import pre_process as pre\n",
    "from finiteelementanalysis import pre_process_demo_helper_fcns as pre_demo\n",
    "import numpy as np\n",
    "\n",
    "complex_outline = pre.get_bulldog_outline()\n",
    "print(complex_outline)"
   ]
  }
 ],
 "metadata": {
  "kernelspec": {
   "display_name": "finite-element-analysis-env",
   "language": "python",
   "name": "python3"
  },
  "language_info": {
   "codemirror_mode": {
    "name": "ipython",
    "version": 3
   },
   "file_extension": ".py",
   "mimetype": "text/x-python",
   "name": "python",
   "nbconvert_exporter": "python",
   "pygments_lexer": "ipython3",
   "version": "3.12.9"
  },
  "orig_nbformat": 4
 },
 "nbformat": 4,
 "nbformat_minor": 2
}
